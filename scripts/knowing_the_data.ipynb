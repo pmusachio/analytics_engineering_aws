{
 "cells": [
  {
   "cell_type": "code",
   "execution_count": null,
   "id": "d15449e3-d986-4eb5-8f38-b57655c40c3a",
   "metadata": {},
   "outputs": [],
   "source": [
    "import pandas as pd\n",
    "pd.set_options('display.max_colwidth', 100)"
   ]
  },
  {
   "cell_type": "code",
   "execution_count": null,
   "id": "068ead2a-b89e-4fde-9824-d97727bb327b",
   "metadata": {},
   "outputs": [],
   "source": [
    "vendas = pd.read_parquet (\"vendas_zoop_bronze.parquet\")\n",
    "estoques = pd.read_parquet (\"estoques_zoop_bronze.parquet\")\n",
    "redes_sociais = pd.read_parquet (\"redes_sociais_zoop_bronze.parquet\")"
   ]
  },
  {
   "cell_type": "code",
   "execution_count": null,
   "id": "964793e7-8b8e-41a5-a880-fa3a0b17fd58",
   "metadata": {},
   "outputs": [],
   "source": [
    "vendas.head()"
   ]
  },
  {
   "cell_type": "code",
   "execution_count": null,
   "id": "b2d3023b-6f9a-4e1c-a2be-f8fd87e89b23",
   "metadata": {},
   "outputs": [],
   "source": [
    "estoques.head()"
   ]
  },
  {
   "cell_type": "code",
   "execution_count": null,
   "id": "6640c829-e3a8-4ffd-961a-c05814a64c8d",
   "metadata": {},
   "outputs": [],
   "source": [
    "redes_sociais.head()"
   ]
  },
  {
   "cell_type": "code",
   "execution_count": null,
   "id": "6e8c853c-7eb4-422c-b683-d27761ec37dc",
   "metadata": {},
   "outputs": [],
   "source": []
  }
 ],
 "metadata": {
  "kernelspec": {
   "display_name": "Python 3 (ipykernel)",
   "language": "python",
   "name": "python3"
  },
  "language_info": {
   "codemirror_mode": {
    "name": "ipython",
    "version": 3
   },
   "file_extension": ".py",
   "mimetype": "text/x-python",
   "name": "python",
   "nbconvert_exporter": "python",
   "pygments_lexer": "ipython3",
   "version": "3.13.0"
  }
 },
 "nbformat": 4,
 "nbformat_minor": 5
}
